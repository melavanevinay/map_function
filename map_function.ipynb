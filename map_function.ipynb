{
 "cells": [
  {
   "cell_type": "markdown",
   "id": "c0253ddd-ba42-42ab-9e4c-b953666a0a64",
   "metadata": {},
   "source": [
    "# map() function :"
   ]
  },
  {
   "cell_type": "markdown",
   "id": "5334733d-cc25-4a7b-9d60-366e3f7c07c7",
   "metadata": {},
   "source": [
    "## map() function executes specific function for each item in given iterable. In simple words it will carry out the operation for which the function is prepared on the provided iterable i.e. List, Tuple, Dictonery etc."
   ]
  },
  {
   "cell_type": "markdown",
   "id": "d1983762-8660-46b1-b8ca-3d66a0baf517",
   "metadata": {},
   "source": [
    "# Syntax :"
   ]
  },
  {
   "cell_type": "markdown",
   "id": "7cbb03f4-1683-41ec-9bef-9c6818129286",
   "metadata": {},
   "source": [
    "## map(function , iterable)\n",
    "## function : The given function which is required to be performed on each item of iterable.\n",
    "## iterable : It is sequence, collection of object such as list, tuple, dictonery etc."
   ]
  },
  {
   "cell_type": "code",
   "execution_count": 1,
   "id": "d816f621-949c-47c9-8eb4-4f9fc3f0fc2b",
   "metadata": {},
   "outputs": [],
   "source": [
    "l=[1,2,3,4,5]\n",
    "m=[1,5,9,7,5]"
   ]
  },
  {
   "cell_type": "code",
   "execution_count": 2,
   "id": "9126468f-9b55-4995-8946-07d85288bf71",
   "metadata": {},
   "outputs": [],
   "source": [
    "def add_num(a,b):\n",
    "    c = a+b\n",
    "    return c\n"
   ]
  },
  {
   "cell_type": "code",
   "execution_count": 3,
   "id": "f4800332-8aa2-4a0d-92ce-8d8d92f13c43",
   "metadata": {},
   "outputs": [],
   "source": [
    "x=(map(add_num,l,m))"
   ]
  },
  {
   "cell_type": "code",
   "execution_count": 4,
   "id": "503f472a-84c6-4a9c-9390-46635ab932f2",
   "metadata": {},
   "outputs": [
    {
     "name": "stdout",
     "output_type": "stream",
     "text": [
      "<map object at 0x7f8cac21b100>\n"
     ]
    }
   ],
   "source": [
    "print(x)"
   ]
  },
  {
   "cell_type": "markdown",
   "id": "43b18d9c-ded7-4f6f-8df9-5ec0bd1bcbdb",
   "metadata": {},
   "source": [
    "## It is required to convert the map into data format for readability."
   ]
  },
  {
   "cell_type": "code",
   "execution_count": 5,
   "id": "273fc6c5-dc7b-417f-a37e-693fb82e0a95",
   "metadata": {},
   "outputs": [
    {
     "name": "stdout",
     "output_type": "stream",
     "text": [
      "[2, 7, 12, 11, 10]\n"
     ]
    }
   ],
   "source": [
    "print(list(x))"
   ]
  },
  {
   "cell_type": "code",
   "execution_count": 6,
   "id": "c155060c-7b15-4d53-963c-1ccad985bc8f",
   "metadata": {},
   "outputs": [
    {
     "name": "stdout",
     "output_type": "stream",
     "text": [
      "()\n"
     ]
    }
   ],
   "source": [
    "print(tuple(x))"
   ]
  },
  {
   "cell_type": "markdown",
   "id": "f28916e8-2100-466c-ae0c-13eb39ddf813",
   "metadata": {},
   "source": [
    "## We can also write lambda() function inside the map function.\n"
   ]
  },
  {
   "cell_type": "code",
   "execution_count": 13,
   "id": "103f6d3e-594b-4937-bad3-6fdf88afb76f",
   "metadata": {},
   "outputs": [
    {
     "name": "stdout",
     "output_type": "stream",
     "text": [
      "[1, 2, 3, 4, 5]\n",
      "[1, 5, 9, 7, 5]\n"
     ]
    }
   ],
   "source": [
    "print(l)\n",
    "print(m)"
   ]
  },
  {
   "cell_type": "code",
   "execution_count": 7,
   "id": "260111c7-a29c-413f-bfb2-04b69d008ddb",
   "metadata": {},
   "outputs": [],
   "source": [
    "x = map(lambda a : a**2 , l)"
   ]
  },
  {
   "cell_type": "code",
   "execution_count": 8,
   "id": "2888443c-15e2-454d-8884-439924146493",
   "metadata": {},
   "outputs": [
    {
     "name": "stdout",
     "output_type": "stream",
     "text": [
      "[1, 4, 9, 16, 25]\n"
     ]
    }
   ],
   "source": [
    "print(list(x))"
   ]
  },
  {
   "cell_type": "code",
   "execution_count": 10,
   "id": "205eb204-88d3-4753-835e-8128014eef4d",
   "metadata": {},
   "outputs": [],
   "source": [
    "y= map(lambda a,b : a*b, l,m)"
   ]
  },
  {
   "cell_type": "code",
   "execution_count": 11,
   "id": "656b41d9-a033-4ec0-9782-a3ffbaeaf78e",
   "metadata": {},
   "outputs": [
    {
     "name": "stdout",
     "output_type": "stream",
     "text": [
      "[1, 10, 27, 28, 25]\n"
     ]
    }
   ],
   "source": [
    "print(list(y))"
   ]
  },
  {
   "cell_type": "code",
   "execution_count": 25,
   "id": "23fbc8fc-3b40-48d7-99fc-e21770d48b98",
   "metadata": {},
   "outputs": [],
   "source": [
    "myname= \"vinay\""
   ]
  },
  {
   "cell_type": "code",
   "execution_count": 26,
   "id": "a5516c76-d4b4-4daa-a74e-d6c4d29f6a70",
   "metadata": {},
   "outputs": [],
   "source": [
    "list( map(lambda x : x.upper , myname)"
   ]
  },
  {
   "cell_type": "code",
   "execution_count": 27,
   "id": "dc5d6bd9-5280-4c36-aed8-db08ed72400e",
   "metadata": {},
   "outputs": [
    {
     "name": "stdout",
     "output_type": "stream",
     "text": [
      "[<built-in method upper of str object at 0x7f8caef97df0>, <built-in method upper of str object at 0x7f8caf140ab0>, <built-in method upper of str object at 0x7f8caefb97b0>, <built-in method upper of str object at 0x7f8caefcf170>, <built-in method upper of str object at 0x7f8caeea4030>]\n"
     ]
    }
   ],
   "source": [
    "print(list(capital))"
   ]
  },
  {
   "cell_type": "code",
   "execution_count": null,
   "id": "70b4f840-4c43-4f6f-9325-d73c149100ce",
   "metadata": {},
   "outputs": [],
   "source": []
  },
  {
   "cell_type": "code",
   "execution_count": null,
   "id": "bb18af41-3873-4893-b32c-637f6f7cc78d",
   "metadata": {},
   "outputs": [],
   "source": []
  }
 ],
 "metadata": {
  "kernelspec": {
   "display_name": "Python 3 (ipykernel)",
   "language": "python",
   "name": "python3"
  },
  "language_info": {
   "codemirror_mode": {
    "name": "ipython",
    "version": 3
   },
   "file_extension": ".py",
   "mimetype": "text/x-python",
   "name": "python",
   "nbconvert_exporter": "python",
   "pygments_lexer": "ipython3",
   "version": "3.10.8"
  }
 },
 "nbformat": 4,
 "nbformat_minor": 5
}
